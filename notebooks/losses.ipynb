{
 "cells": [
  {
   "cell_type": "code",
   "execution_count": null,
   "source": [
    "import numpy as np\n",
    "import matplotlib.pyplot as plt"
   ],
   "outputs": [],
   "metadata": {}
  },
  {
   "cell_type": "code",
   "execution_count": null,
   "source": [
    "x = np.arange(-2,2,0.01)\n",
    "l2 = x**2\n",
    "l1 = np.abs(x)\n",
    "\n",
    "def smoothl1(x):\n",
    "    mask = np.abs(x)<1\n",
    "    sol = np.abs(x)- 0.5\n",
    "    sol[mask] = 0.5* x[mask] **2\n",
    "    return sol\n",
    "\n",
    "sl1 = smoothl1(x)"
   ],
   "outputs": [],
   "metadata": {}
  },
  {
   "cell_type": "code",
   "execution_count": null,
   "source": [
    "plt.plot(x, l2)\n",
    "plt.xlabel(\"$y-y^\\prime$\")\n",
    "plt.ylabel(\"Penalisation\")\n",
    "plt.title(\"L2 loss\")"
   ],
   "outputs": [],
   "metadata": {}
  },
  {
   "cell_type": "code",
   "execution_count": null,
   "source": [
    "plt.plot(x, l1)\n",
    "plt.xlabel(\"$y-y^\\prime$\")\n",
    "plt.ylabel(\"Penalisation\")\n",
    "plt.title(\"L1 loss\")"
   ],
   "outputs": [],
   "metadata": {}
  },
  {
   "cell_type": "code",
   "execution_count": null,
   "source": [
    "plt.plot(x, sl1)\n",
    "plt.xlabel(\"$y-y^\\prime$\")\n",
    "plt.ylabel(\"Penalisation\")\n",
    "plt.title(\"Smooth L1 loss\")"
   ],
   "outputs": [],
   "metadata": {}
  },
  {
   "cell_type": "code",
   "execution_count": null,
   "source": [],
   "outputs": [],
   "metadata": {}
  }
 ],
 "metadata": {
  "orig_nbformat": 4,
  "language_info": {
   "name": "python",
   "version": "3.9.1",
   "mimetype": "text/x-python",
   "codemirror_mode": {
    "name": "ipython",
    "version": 3
   },
   "pygments_lexer": "ipython3",
   "nbconvert_exporter": "python",
   "file_extension": ".py"
  },
  "kernelspec": {
   "name": "python3",
   "display_name": "Python 3.9.1 64-bit ('oeaw-ai-summer-school-2021-CMalzwFa': pipenv)"
  },
  "interpreter": {
   "hash": "7e77879e7ba482baebf215f15929643f03e50a667c52f4e8743882ead31c04b9"
  }
 },
 "nbformat": 4,
 "nbformat_minor": 2
}